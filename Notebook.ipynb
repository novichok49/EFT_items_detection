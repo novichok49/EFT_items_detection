{
 "cells": [
  {
   "cell_type": "code",
   "execution_count": 13,
   "metadata": {},
   "outputs": [],
   "source": [
    "# Размер исходного изображения 1920x1080"
   ]
  },
  {
   "cell_type": "code",
   "execution_count": 1,
   "metadata": {},
   "outputs": [],
   "source": [
    "from PIL import Image\n",
    "from pathlib import Path\n",
    "from ImagesDownload import ImagesDownload\n",
    "import matplotlib.pyplot as plt\n",
    "import pandas as pd\n",
    "from ImagesPreparing import ImagesPreparing"
   ]
  },
  {
   "cell_type": "code",
   "execution_count": 17,
   "metadata": {},
   "outputs": [],
   "source": [
    "def plot_image(path:str):\n",
    "    image = Image.open(path)\n",
    "    plt.imshow(image)\n",
    "    plt.show()\n",
    "    print(f'imgsize: {image.size}')"
   ]
  },
  {
   "cell_type": "code",
   "execution_count": 3,
   "metadata": {},
   "outputs": [],
   "source": [
    "# Группы предметов использующиеся в capcha\n",
    "CAPCHA_LIST = ['Battery', 'Building material', 'Charging handle', 'Arm Band',\n",
    "             'Common container', 'Drink', 'Drug', 'Electronics', 'Face Cover',\n",
    "             'Food', 'Fuel', 'Household goods', 'Info', 'Jewelry', 'Keycard',\n",
    "             'Knife', 'Lubricant', 'Medical item', 'Medical supplies', 'Medikit',\n",
    "             'Night Vision', 'Other', 'Radio Transmitter', 'Repair Kits', 'Special item',\n",
    "             'Stimulant', 'Throwable weapon', 'Tool']\n",
    "IMAGES_DATA_PATH = Path('./Tarkov_items.csv')\n",
    "RESOLUTION_DATA_PATH = Path('./Resolution_info.csv')\n",
    "IMAGES_PATH = Path('./Images/')"
   ]
  },
  {
   "cell_type": "code",
   "execution_count": 4,
   "metadata": {},
   "outputs": [
    {
     "data": {
      "text/html": [
       "<div>\n",
       "<style scoped>\n",
       "    .dataframe tbody tr th:only-of-type {\n",
       "        vertical-align: middle;\n",
       "    }\n",
       "\n",
       "    .dataframe tbody tr th {\n",
       "        vertical-align: top;\n",
       "    }\n",
       "\n",
       "    .dataframe thead th {\n",
       "        text-align: right;\n",
       "    }\n",
       "</style>\n",
       "<table border=\"1\" class=\"dataframe\">\n",
       "  <thead>\n",
       "    <tr style=\"text-align: right;\">\n",
       "      <th></th>\n",
       "      <th>normalizedName</th>\n",
       "      <th>shortName</th>\n",
       "      <th>gridImageLink</th>\n",
       "      <th>image512pxLink</th>\n",
       "      <th>width</th>\n",
       "      <th>height</th>\n",
       "      <th>gridImageLink.filepath</th>\n",
       "      <th>image512pxLink.filepath</th>\n",
       "    </tr>\n",
       "  </thead>\n",
       "  <tbody>\n",
       "    <tr>\n",
       "      <th>0</th>\n",
       "      <td>colt-m4a1-556x45-assault-rifle</td>\n",
       "      <td>M4A1</td>\n",
       "      <td>https://assets.tarkov.dev/5447a9cd4bdc2dbd208b...</td>\n",
       "      <td>https://assets.tarkov.dev/5447a9cd4bdc2dbd208b...</td>\n",
       "      <td>1</td>\n",
       "      <td>1</td>\n",
       "      <td>gridImageLink.filepath/colt-m4a1-556x45-assaul...</td>\n",
       "      <td>image512pxLink.filepath/colt-m4a1-556x45-assau...</td>\n",
       "    </tr>\n",
       "    <tr>\n",
       "      <th>1</th>\n",
       "      <td>556x45mm-m855-ammo-pack-30-pcs</td>\n",
       "      <td>M855</td>\n",
       "      <td>https://assets.tarkov.dev/5447ac644bdc2d6c208b...</td>\n",
       "      <td>https://assets.tarkov.dev/5447ac644bdc2d6c208b...</td>\n",
       "      <td>1</td>\n",
       "      <td>1</td>\n",
       "      <td>gridImageLink.filepath/556x45mm-m855-ammo-pack...</td>\n",
       "      <td>image512pxLink.filepath/556x45mm-m855-ammo-pac...</td>\n",
       "    </tr>\n",
       "    <tr>\n",
       "      <th>2</th>\n",
       "      <td>factory-emergency-exit-key</td>\n",
       "      <td>Factory</td>\n",
       "      <td>https://assets.tarkov.dev/5448ba0b4bdc2d02308b...</td>\n",
       "      <td>https://assets.tarkov.dev/5448ba0b4bdc2d02308b...</td>\n",
       "      <td>1</td>\n",
       "      <td>1</td>\n",
       "      <td>gridImageLink.filepath/factory-emergency-exit-...</td>\n",
       "      <td>image512pxLink.filepath/factory-emergency-exit...</td>\n",
       "    </tr>\n",
       "  </tbody>\n",
       "</table>\n",
       "</div>"
      ],
      "text/plain": [
       "                   normalizedName shortName  \\\n",
       "0  colt-m4a1-556x45-assault-rifle      M4A1   \n",
       "1  556x45mm-m855-ammo-pack-30-pcs      M855   \n",
       "2      factory-emergency-exit-key   Factory   \n",
       "\n",
       "                                       gridImageLink  \\\n",
       "0  https://assets.tarkov.dev/5447a9cd4bdc2dbd208b...   \n",
       "1  https://assets.tarkov.dev/5447ac644bdc2d6c208b...   \n",
       "2  https://assets.tarkov.dev/5448ba0b4bdc2d02308b...   \n",
       "\n",
       "                                      image512pxLink  width  height  \\\n",
       "0  https://assets.tarkov.dev/5447a9cd4bdc2dbd208b...      1       1   \n",
       "1  https://assets.tarkov.dev/5447ac644bdc2d6c208b...      1       1   \n",
       "2  https://assets.tarkov.dev/5448ba0b4bdc2d02308b...      1       1   \n",
       "\n",
       "                              gridImageLink.filepath  \\\n",
       "0  gridImageLink.filepath/colt-m4a1-556x45-assaul...   \n",
       "1  gridImageLink.filepath/556x45mm-m855-ammo-pack...   \n",
       "2  gridImageLink.filepath/factory-emergency-exit-...   \n",
       "\n",
       "                             image512pxLink.filepath  \n",
       "0  image512pxLink.filepath/colt-m4a1-556x45-assau...  \n",
       "1  image512pxLink.filepath/556x45mm-m855-ammo-pac...  \n",
       "2  image512pxLink.filepath/factory-emergency-exit...  "
      ]
     },
     "execution_count": 4,
     "metadata": {},
     "output_type": "execute_result"
    }
   ],
   "source": [
    "items_df = pd.read_csv(IMAGES_DATA_PATH)"
   ]
  },
  {
   "cell_type": "code",
   "execution_count": 5,
   "metadata": {},
   "outputs": [],
   "source": [
    "image_preparing = ImagesPreparing(images_data=items_df,\n",
    "                                  save_path=IMAGES_PATH)\n",
    "items_df = image_preparing.rescale_grid(h_grid='height',\n",
    "                                        w_grid='width',\n",
    "                                        column='image512pxLink.filepath',\n",
    "                                        name='Items')"
   ]
  },
  {
   "cell_type": "code",
   "execution_count": 6,
   "metadata": {},
   "outputs": [],
   "source": [
    "items_df = image_preparing.create_mask(column='Items',\n",
    "                                       name='ItemMasks')"
   ]
  },
  {
   "cell_type": "code",
   "execution_count": 7,
   "metadata": {},
   "outputs": [],
   "source": [
    "items_df = image_preparing.rescale_grid(h_grid='height',\n",
    "                                        w_grid='width',\n",
    "                                        column='gridImageLink.filepath',\n",
    "                                        name='GridItems')"
   ]
  },
  {
   "cell_type": "code",
   "execution_count": 9,
   "metadata": {},
   "outputs": [],
   "source": [
    "items_df.drop(\n",
    "    columns=['gridImageLink.filepath',\n",
    "             'image512pxLink.filepath',\n",
    "             'gridImageLink',\n",
    "             'image512pxLink'],\n",
    "    inplace=True)"
   ]
  },
  {
   "cell_type": "code",
   "execution_count": 19,
   "metadata": {},
   "outputs": [
    {
     "data": {
      "image/png": "[encoded data removed]",
      "text/plain": [
       "<Figure size 640x480 with 1 Axes>"
      ]
     },
     "metadata": {},
     "output_type": "display_data"
    },
    {
     "name": "stdout",
     "output_type": "stream",
     "text": [
      "imgsize: (128, 64)\n"
     ]
    },
    {
     "data": {
      "image/png": "[encoded data removed]",
      "text/plain": [
       "<Figure size 640x480 with 1 Axes>"
      ]
     },
     "metadata": {},
     "output_type": "display_data"
    },
    {
     "name": "stdout",
     "output_type": "stream",
     "text": [
      "imgsize: (128, 64)\n"
     ]
    },
    {
     "data": {
      "image/png": "[encoded data removed]",
      "text/plain": [
       "<Figure size 640x480 with 1 Axes>"
      ]
     },
     "metadata": {},
     "output_type": "display_data"
    },
    {
     "name": "stdout",
     "output_type": "stream",
     "text": [
      "imgsize: (128, 64)\n"
     ]
    }
   ],
   "source": [
    "for path in items_df.loc[42, ['Items', 'GridItems', 'ItemMasks']]:\n",
    "    plot_image(path)"
   ]
  },
  {
   "cell_type": "code",
   "execution_count": 14,
   "metadata": {},
   "outputs": [
    {
     "data": {
      "text/plain": [
       "Items                Images/Items/item_42.png\n",
       "GridItems    Images/GridItems/griditem_42.png\n",
       "ItemMasks    Images/ItemMasks/itemmask_42.png\n",
       "Name: 42, dtype: object"
      ]
     },
     "execution_count": 14,
     "metadata": {},
     "output_type": "execute_result"
    }
   ],
   "source": [
    "# items_df.loc[42, ['Items', 'GridItems', 'ItemMasks']]"
   ]
  },
  {
   "cell_type": "code",
   "execution_count": null,
   "metadata": {},
   "outputs": [],
   "source": []
  }
 ],
 "metadata": {
  "kernelspec": {
   "display_name": "tf2",
   "language": "python",
   "name": "python3"
  },
  "language_info": {
   "codemirror_mode": {
    "name": "ipython",
    "version": 3
   },
   "file_extension": ".py",
   "mimetype": "text/x-python",
   "name": "python",
   "nbconvert_exporter": "python",
   "pygments_lexer": "ipython3",
   "version": "3.10.9"
  },
  "orig_nbformat": 4
 },
 "nbformat": 4,
 "nbformat_minor": 2
}
